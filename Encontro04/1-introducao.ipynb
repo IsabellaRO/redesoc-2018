{
 "cells": [
  {
   "cell_type": "markdown",
   "metadata": {},
   "source": [
    "# (Re)introdução a Grafos\n",
    "\n",
    "Este guia foi escrito para ajudar você a atingir os seguintes objetivos:\n",
    "\n",
    "* formalizar conceitos básicos de teoria dos grafos;\n",
    "* usar funcionalidades básicas da biblioteca da disciplina.\n",
    "\n",
    "\n",
    "## Grafos não-dirigidos\n",
    "\n",
    "Um **grafo não-dirigido** (*undirected graph*) é um par\n",
    "\n",
    "$(N, E)$,\n",
    "\n",
    "onde $N$ é um conjunto qualquer e $E$ é um conjunto de pares *não-ordenados* de elementos de $N$, ou seja,\n",
    "\n",
    "$E \\subseteq \\{\\{n, m\\} \\colon n \\in N \\textrm{ e } m \\in N\\}$.\n",
    "\n",
    "Um elemento de $N$ chama-se **nó** (*node*) e um elemento de $E$ chama-se **aresta** (*edge*). Em alguns trabalhos, usa-se $V$ e *vértice* em vez de $N$ e nó.\n",
    "\n",
    "\n",
    "## Grafos dirigidos\n",
    "\n",
    "Formalmente, um **grafo dirigido** (*directed graph*) é um par\n",
    "\n",
    "$(N, E)$,\n",
    "\n",
    "onde $N$ é um conjunto qualquer e $E$ é um conjunto de pares *ordenados* de elementos de *N*, ou seja,\n",
    "\n",
    "$E \\subseteq \\{(n, m) \\colon n \\in N \\textrm{ e } m \\in N\\}$.\n",
    "\n",
    "Um elemento de $N$ chama-se **nó** (*node*) e um elemento de $E$ chama-se **aresta** (*edge*). Em alguns trabalhos, usa-se $V$ e *vértice* em vez de $N$ e nó e usa-se $A$ e *arco* em vez de $E$ e aresta.\n",
    "\n",
    "\n",
    "## Instalando as dependências\n",
    "\n",
    "Antes de continuar, instale as duas dependências da biblioteca da disciplina:\n",
    "\n",
    "> `pip install networkx plotly`\n",
    "\n",
    "Em algumas distribuições Linux você deve usar o comando `pip3`, pois o comando `pip` está associado a Python 2 por padrão.\n",
    "\n",
    "\n",
    "## Importando a biblioteca\n",
    "\n",
    "Não mova ou renomeie os arquivos do repositório, a menos que você esteja disposto a adaptar os notebooks de acordo.\n",
    "\n",
    "Vamos importar a biblioteca da disciplina no notebook:"
   ]
  },
  {
   "cell_type": "code",
   "execution_count": 1,
   "metadata": {},
   "outputs": [
    {
     "name": "stderr",
     "output_type": "stream",
     "text": [
      "/usr/lib/python3.5/importlib/_bootstrap.py:222: RuntimeWarning: numpy.dtype size changed, may indicate binary incompatibility. Expected 96, got 88\n",
      "  return f(*args, **kwds)\n",
      "/usr/lib/python3.5/importlib/_bootstrap.py:222: RuntimeWarning: numpy.dtype size changed, may indicate binary incompatibility. Expected 96, got 88\n",
      "  return f(*args, **kwds)\n"
     ]
    },
    {
     "data": {
      "text/html": [
       "<script>requirejs.config({paths: { 'plotly': ['https://cdn.plot.ly/plotly-latest.min']},});if(!window.Plotly) {{require(['plotly'],function(plotly) {window.Plotly=plotly;});}}</script>"
      ],
      "text/vnd.plotly.v1+html": [
       "<script>requirejs.config({paths: { 'plotly': ['https://cdn.plot.ly/plotly-latest.min']},});if(!window.Plotly) {{require(['plotly'],function(plotly) {window.Plotly=plotly;});}}</script>"
      ]
     },
     "metadata": {},
     "output_type": "display_data"
    }
   ],
   "source": [
    "import sys\n",
    "sys.path.append('..')\n",
    "\n",
    "import socnet as sn"
   ]
  },
  {
   "cell_type": "markdown",
   "metadata": {},
   "source": [
    "## Configurando a biblioteca\n",
    "\n",
    "A `socnet` disponibiliza variáveis de módulo que permitem configurar propriedades visuais. Os nomes são auto-explicativos e os valores abaixo são padrão."
   ]
  },
  {
   "cell_type": "code",
   "execution_count": 2,
   "metadata": {},
   "outputs": [],
   "source": [
    "sn.graph_width = 800\n",
    "sn.graph_height = 450\n",
    "\n",
    "sn.node_size = 20\n",
    "sn.node_color = (255, 255, 255)\n",
    "\n",
    "sn.edge_width = 2\n",
    "sn.edge_color = (0, 0, 0)\n",
    "\n",
    "sn.node_label_position = 'middle center'\n",
    "sn.edge_label_distance = 10"
   ]
  },
  {
   "cell_type": "markdown",
   "metadata": {},
   "source": [
    "Uma variável de cor armazena uma tupla contendo três inteiros entre *0* e *255* que representam intensidades de *vermelho*, *verde* e *azul* respectivamente.\n",
    "\n",
    "Uma variável de posição armazena uma string contendo duas palavras separadas por um espaço:\n",
    "* a primeira representa o alinhamento vertical e pode ser `top`, `middle` ou `bottom`;\n",
    "* a segunda representa o alinhamento horizontal e pode ser `left`, `center` ou `right`.\n",
    "\n",
    "## Carregando grafos\n",
    "\n",
    "Vamos carregar dois grafos no [formato GML](http://www.fim.uni-passau.de/fileadmin/files/lehrstuhl/brandenburg/projekte/gml/gml-technical-report.pdf):"
   ]
  },
  {
   "cell_type": "code",
   "execution_count": 4,
   "metadata": {},
   "outputs": [],
   "source": [
    "ug = sn.load_graph('5-kruskal.gml', has_pos=True)\n",
    "dg = sn.load_graph('4-dijkstra.gml', has_pos=True)"
   ]
  },
  {
   "cell_type": "markdown",
   "metadata": {},
   "source": [
    "Abra esses arquivos em um editor de texto e note como o formato é auto-explicativo.\n",
    "\n",
    "## Visualizando grafos\n",
    "\n",
    "Vamos visualizar o primeiro grafo, que é não-dirigido:"
   ]
  },
  {
   "cell_type": "code",
   "execution_count": 5,
   "metadata": {},
   "outputs": [
    {
     "data": {
      "application/vnd.plotly.v1+json": {
       "data": [
        {
         "hoverinfo": "none",
         "line": {
          "color": "rgb(0, 0, 0)",
          "width": 2
         },
         "mode": "lines",
         "x": [
          0,
          0.25,
          null,
          0,
          0.25,
          null,
          0.25,
          0.5,
          null,
          0.25,
          0.25,
          null,
          0.5,
          0.375,
          null,
          0.5,
          0.75,
          null,
          0.5,
          0.75,
          null,
          0.75,
          1,
          null,
          0.75,
          0.75,
          null,
          1,
          0.75,
          null,
          0.75,
          0.5,
          null,
          0.5,
          0.375,
          null,
          0.5,
          0.25,
          null,
          0.25,
          0.375,
          null
         ],
         "y": [
          0.5,
          1,
          null,
          0.5,
          0,
          null,
          1,
          1,
          null,
          1,
          0,
          null,
          1,
          0.5,
          null,
          1,
          1,
          null,
          1,
          0,
          null,
          1,
          0.5,
          null,
          1,
          0,
          null,
          0.5,
          0,
          null,
          0,
          0,
          null,
          0,
          0.5,
          null,
          0,
          0,
          null,
          0,
          0.5,
          null
         ]
        },
        {
         "hoverinfo": "none",
         "marker": {
          "color": "rgb(255, 255, 255)",
          "line": {
           "color": "rgb(0, 0, 0)",
           "width": 2
          },
          "size": 20
         },
         "mode": "markers+text",
         "text": [],
         "textfont": {
          "color": "rgb(0, 0, 0)"
         },
         "textposition": "middle center",
         "x": [
          0,
          0.25,
          0.5,
          0.75,
          1,
          0.75,
          0.5,
          0.25,
          0.375
         ],
         "y": [
          0.5,
          1,
          1,
          1,
          0.5,
          0,
          0,
          0,
          0.5
         ]
        }
       ],
       "layout": {
        "height": 180,
        "margin": {
         "b": 0,
         "l": 0,
         "r": 0,
         "t": 0
        },
        "showlegend": false,
        "width": 320,
        "xaxis": {
         "showgrid": false,
         "showticklabels": false,
         "zeroline": false
        },
        "yaxis": {
         "showgrid": false,
         "showticklabels": false,
         "zeroline": false
        }
       }
      },
      "text/html": [
       "<div id=\"0aa10504-a9b5-4e24-a54f-392711c1d014\" style=\"height: 180px; width: 320px;\" class=\"plotly-graph-div\"></div><script type=\"text/javascript\">require([\"plotly\"], function(Plotly) { window.PLOTLYENV=window.PLOTLYENV || {};window.PLOTLYENV.BASE_URL=\"https://plot.ly\";Plotly.newPlot(\"0aa10504-a9b5-4e24-a54f-392711c1d014\", [{\"x\": [0.0, 0.25, null, 0.0, 0.25, null, 0.25, 0.5, null, 0.25, 0.25, null, 0.5, 0.375, null, 0.5, 0.75, null, 0.5, 0.75, null, 0.75, 1.0, null, 0.75, 0.75, null, 1.0, 0.75, null, 0.75, 0.5, null, 0.5, 0.375, null, 0.5, 0.25, null, 0.25, 0.375, null], \"line\": {\"color\": \"rgb(0, 0, 0)\", \"width\": 2}, \"y\": [0.5, 1.0, null, 0.5, 0.0, null, 1.0, 1.0, null, 1.0, 0.0, null, 1.0, 0.5, null, 1.0, 1.0, null, 1.0, 0.0, null, 1.0, 0.5, null, 1.0, 0.0, null, 0.5, 0.0, null, 0.0, 0.0, null, 0.0, 0.5, null, 0.0, 0.0, null, 0.0, 0.5, null], \"hoverinfo\": \"none\", \"mode\": \"lines\"}, {\"x\": [0.0, 0.25, 0.5, 0.75, 1.0, 0.75, 0.5, 0.25, 0.375], \"textposition\": \"middle center\", \"mode\": \"markers+text\", \"marker\": {\"line\": {\"color\": \"rgb(0, 0, 0)\", \"width\": 2}, \"color\": \"rgb(255, 255, 255)\", \"size\": 20}, \"y\": [0.5, 1.0, 1.0, 1.0, 0.5, 0.0, 0.0, 0.0, 0.5], \"hoverinfo\": \"none\", \"text\": [], \"textfont\": {\"color\": \"rgb(0, 0, 0)\"}}], {\"xaxis\": {\"showticklabels\": false, \"zeroline\": false, \"showgrid\": false}, \"margin\": {\"t\": 0, \"b\": 0, \"l\": 0, \"r\": 0}, \"showlegend\": false, \"yaxis\": {\"showticklabels\": false, \"zeroline\": false, \"showgrid\": false}, \"width\": 320, \"height\": 180}, {\"linkText\": \"Export to plot.ly\", \"showLink\": false, \"displayModeBar\": false})});</script>"
      ],
      "text/vnd.plotly.v1+html": [
       "<div id=\"0aa10504-a9b5-4e24-a54f-392711c1d014\" style=\"height: 180px; width: 320px;\" class=\"plotly-graph-div\"></div><script type=\"text/javascript\">require([\"plotly\"], function(Plotly) { window.PLOTLYENV=window.PLOTLYENV || {};window.PLOTLYENV.BASE_URL=\"https://plot.ly\";Plotly.newPlot(\"0aa10504-a9b5-4e24-a54f-392711c1d014\", [{\"x\": [0.0, 0.25, null, 0.0, 0.25, null, 0.25, 0.5, null, 0.25, 0.25, null, 0.5, 0.375, null, 0.5, 0.75, null, 0.5, 0.75, null, 0.75, 1.0, null, 0.75, 0.75, null, 1.0, 0.75, null, 0.75, 0.5, null, 0.5, 0.375, null, 0.5, 0.25, null, 0.25, 0.375, null], \"line\": {\"color\": \"rgb(0, 0, 0)\", \"width\": 2}, \"y\": [0.5, 1.0, null, 0.5, 0.0, null, 1.0, 1.0, null, 1.0, 0.0, null, 1.0, 0.5, null, 1.0, 1.0, null, 1.0, 0.0, null, 1.0, 0.5, null, 1.0, 0.0, null, 0.5, 0.0, null, 0.0, 0.0, null, 0.0, 0.5, null, 0.0, 0.0, null, 0.0, 0.5, null], \"hoverinfo\": \"none\", \"mode\": \"lines\"}, {\"x\": [0.0, 0.25, 0.5, 0.75, 1.0, 0.75, 0.5, 0.25, 0.375], \"textposition\": \"middle center\", \"mode\": \"markers+text\", \"marker\": {\"line\": {\"color\": \"rgb(0, 0, 0)\", \"width\": 2}, \"color\": \"rgb(255, 255, 255)\", \"size\": 20}, \"y\": [0.5, 1.0, 1.0, 1.0, 0.5, 0.0, 0.0, 0.0, 0.5], \"hoverinfo\": \"none\", \"text\": [], \"textfont\": {\"color\": \"rgb(0, 0, 0)\"}}], {\"xaxis\": {\"showticklabels\": false, \"zeroline\": false, \"showgrid\": false}, \"margin\": {\"t\": 0, \"b\": 0, \"l\": 0, \"r\": 0}, \"showlegend\": false, \"yaxis\": {\"showticklabels\": false, \"zeroline\": false, \"showgrid\": false}, \"width\": 320, \"height\": 180}, {\"linkText\": \"Export to plot.ly\", \"showLink\": false, \"displayModeBar\": false})});</script>"
      ]
     },
     "metadata": {},
     "output_type": "display_data"
    }
   ],
   "source": [
    "sn.graph_width = 320\n",
    "sn.graph_height = 180\n",
    "\n",
    "sn.show_graph(ug)"
   ]
  },
  {
   "cell_type": "markdown",
   "metadata": {},
   "source": [
    "Essa é a representação mais comum de grafos não-dirigidos: círculos como nós e retas como arestas. Se uma reta *conecta* o círculo que representa $n$ ao círculo que representa $m$, ela representa a aresta $\\{n, m\\}$.\n",
    "\n",
    "Vamos agora visualizar o segundo grafo, que é dirigido:"
   ]
  },
  {
   "cell_type": "code",
   "execution_count": 6,
   "metadata": {},
   "outputs": [
    {
     "data": {
      "application/vnd.plotly.v1+json": {
       "data": [
        {
         "hoverinfo": "none",
         "line": {
          "color": "rgb(0, 0, 0)",
          "width": 2
         },
         "mode": "lines",
         "x": [
          0,
          0.5,
          null,
          0.46643085439538495,
          0.44538388103556675,
          null,
          0.46643085439538495,
          0.4285584341548651,
          null,
          0,
          0.5,
          null,
          0.46643085439538495,
          0.4285584341548651,
          null,
          0.46643085439538495,
          0.44538388103556675,
          null,
          0.5,
          1,
          null,
          0.9621212121212122,
          0.9288794484132434,
          null,
          0.9621212121212122,
          0.9288794484132434,
          null,
          0.5075757575757576,
          0.5075757575757576,
          null,
          0.5075757575757576,
          0.5257358158562198,
          null,
          1.0075757575757576,
          1.0075757575757576,
          null,
          1.0075757575757576,
          1.0257358158562198,
          null,
          0.49242424242424243,
          0.49242424242424243,
          null,
          0.49242424242424243,
          0.4742641841437802,
          null,
          0.5,
          1,
          null,
          0.9738173240163878,
          0.9639630823912474,
          null,
          0.9738173240163878,
          0.9377166459078401,
          null,
          0.5,
          1,
          null,
          0.9621212121212122,
          0.9288794484132434,
          null,
          0.9621212121212122,
          0.9288794484132434,
          null,
          1,
          0,
          null,
          0.03664774299318793,
          0.07340128670201525,
          null,
          0.03664774299318793,
          0.06421703965128427,
          null,
          0.9924242424242424,
          0.9924242424242424,
          null,
          0.9924242424242424,
          0.9742641841437802,
          null
         ],
         "y": [
          0.5,
          1,
          null,
          0.966430854395385,
          0.906182816233176,
          null,
          0.966430854395385,
          0.967759498957256,
          null,
          0.5,
          0,
          null,
          0.03356914560461503,
          0.032240501042743994,
          null,
          0.03356914560461503,
          0.09381718376682407,
          null,
          1,
          1,
          null,
          1,
          0.9652590189417244,
          null,
          1,
          1.0347409810582755,
          null,
          1,
          0,
          null,
          0.07246376811594203,
          0.13605670738336034,
          null,
          1,
          0,
          null,
          0.07246376811594203,
          0.13605670738336034,
          null,
          0,
          1,
          null,
          0.927536231884058,
          0.8639432926166397,
          null,
          0,
          1,
          null,
          0.9476346480327754,
          0.8776659754484841,
          null,
          0.9476346480327754,
          0.9256934811496907,
          null,
          0,
          0,
          null,
          0,
          -0.03474098105827558,
          null,
          0,
          0.03474098105827558,
          null,
          0,
          0.5,
          null,
          0.481676128503406,
          0.4992073320037643,
          null,
          0.481676128503406,
          0.4319835048195859,
          null,
          0,
          1,
          null,
          0.927536231884058,
          0.8639432926166397,
          null
         ]
        },
        {
         "hoverinfo": "none",
         "marker": {
          "color": "rgb(255, 255, 255)",
          "line": {
           "color": "rgb(0, 0, 0)",
           "width": 2
          },
          "size": 20
         },
         "mode": "markers+text",
         "text": [],
         "textfont": {
          "color": "rgb(0, 0, 0)"
         },
         "textposition": "middle center",
         "x": [
          0,
          0.5,
          1,
          0.5,
          1
         ],
         "y": [
          0.5,
          1,
          1,
          0,
          0
         ]
        }
       ],
       "layout": {
        "height": 180,
        "margin": {
         "b": 0,
         "l": 0,
         "r": 0,
         "t": 0
        },
        "showlegend": false,
        "width": 320,
        "xaxis": {
         "showgrid": false,
         "showticklabels": false,
         "zeroline": false
        },
        "yaxis": {
         "showgrid": false,
         "showticklabels": false,
         "zeroline": false
        }
       }
      },
      "text/html": [
       "<div id=\"f1c034ac-228e-42ba-8436-128f683c4d57\" style=\"height: 180px; width: 320px;\" class=\"plotly-graph-div\"></div><script type=\"text/javascript\">require([\"plotly\"], function(Plotly) { window.PLOTLYENV=window.PLOTLYENV || {};window.PLOTLYENV.BASE_URL=\"https://plot.ly\";Plotly.newPlot(\"f1c034ac-228e-42ba-8436-128f683c4d57\", [{\"x\": [0.0, 0.5, null, 0.46643085439538495, 0.44538388103556675, null, 0.46643085439538495, 0.4285584341548651, null, 0.0, 0.5, null, 0.46643085439538495, 0.4285584341548651, null, 0.46643085439538495, 0.44538388103556675, null, 0.5, 1.0, null, 0.9621212121212122, 0.9288794484132434, null, 0.9621212121212122, 0.9288794484132434, null, 0.5075757575757576, 0.5075757575757576, null, 0.5075757575757576, 0.5257358158562198, null, 1.0075757575757576, 1.0075757575757576, null, 1.0075757575757576, 1.0257358158562198, null, 0.49242424242424243, 0.49242424242424243, null, 0.49242424242424243, 0.4742641841437802, null, 0.5, 1.0, null, 0.9738173240163878, 0.9639630823912474, null, 0.9738173240163878, 0.9377166459078401, null, 0.5, 1.0, null, 0.9621212121212122, 0.9288794484132434, null, 0.9621212121212122, 0.9288794484132434, null, 1.0, 0.0, null, 0.03664774299318793, 0.07340128670201525, null, 0.03664774299318793, 0.06421703965128427, null, 0.9924242424242424, 0.9924242424242424, null, 0.9924242424242424, 0.9742641841437802, null], \"line\": {\"color\": \"rgb(0, 0, 0)\", \"width\": 2}, \"y\": [0.5, 1.0, null, 0.966430854395385, 0.906182816233176, null, 0.966430854395385, 0.967759498957256, null, 0.5, 0.0, null, 0.03356914560461503, 0.032240501042743994, null, 0.03356914560461503, 0.09381718376682407, null, 1.0, 1.0, null, 1.0, 0.9652590189417244, null, 1.0, 1.0347409810582755, null, 1.0, 0.0, null, 0.07246376811594203, 0.13605670738336034, null, 1.0, 0.0, null, 0.07246376811594203, 0.13605670738336034, null, 0.0, 1.0, null, 0.927536231884058, 0.8639432926166397, null, 0.0, 1.0, null, 0.9476346480327754, 0.8776659754484841, null, 0.9476346480327754, 0.9256934811496907, null, 0.0, 0.0, null, 0.0, -0.03474098105827558, null, 0.0, 0.03474098105827558, null, 0.0, 0.5, null, 0.481676128503406, 0.4992073320037643, null, 0.481676128503406, 0.4319835048195859, null, 0.0, 1.0, null, 0.927536231884058, 0.8639432926166397, null], \"hoverinfo\": \"none\", \"mode\": \"lines\"}, {\"x\": [0.0, 0.5, 1.0, 0.5, 1.0], \"textposition\": \"middle center\", \"mode\": \"markers+text\", \"marker\": {\"line\": {\"color\": \"rgb(0, 0, 0)\", \"width\": 2}, \"color\": \"rgb(255, 255, 255)\", \"size\": 20}, \"y\": [0.5, 1.0, 1.0, 0.0, 0.0], \"hoverinfo\": \"none\", \"text\": [], \"textfont\": {\"color\": \"rgb(0, 0, 0)\"}}], {\"xaxis\": {\"showticklabels\": false, \"zeroline\": false, \"showgrid\": false}, \"margin\": {\"t\": 0, \"b\": 0, \"l\": 0, \"r\": 0}, \"showlegend\": false, \"yaxis\": {\"showticklabels\": false, \"zeroline\": false, \"showgrid\": false}, \"width\": 320, \"height\": 180}, {\"linkText\": \"Export to plot.ly\", \"showLink\": false, \"displayModeBar\": false})});</script>"
      ],
      "text/vnd.plotly.v1+html": [
       "<div id=\"f1c034ac-228e-42ba-8436-128f683c4d57\" style=\"height: 180px; width: 320px;\" class=\"plotly-graph-div\"></div><script type=\"text/javascript\">require([\"plotly\"], function(Plotly) { window.PLOTLYENV=window.PLOTLYENV || {};window.PLOTLYENV.BASE_URL=\"https://plot.ly\";Plotly.newPlot(\"f1c034ac-228e-42ba-8436-128f683c4d57\", [{\"x\": [0.0, 0.5, null, 0.46643085439538495, 0.44538388103556675, null, 0.46643085439538495, 0.4285584341548651, null, 0.0, 0.5, null, 0.46643085439538495, 0.4285584341548651, null, 0.46643085439538495, 0.44538388103556675, null, 0.5, 1.0, null, 0.9621212121212122, 0.9288794484132434, null, 0.9621212121212122, 0.9288794484132434, null, 0.5075757575757576, 0.5075757575757576, null, 0.5075757575757576, 0.5257358158562198, null, 1.0075757575757576, 1.0075757575757576, null, 1.0075757575757576, 1.0257358158562198, null, 0.49242424242424243, 0.49242424242424243, null, 0.49242424242424243, 0.4742641841437802, null, 0.5, 1.0, null, 0.9738173240163878, 0.9639630823912474, null, 0.9738173240163878, 0.9377166459078401, null, 0.5, 1.0, null, 0.9621212121212122, 0.9288794484132434, null, 0.9621212121212122, 0.9288794484132434, null, 1.0, 0.0, null, 0.03664774299318793, 0.07340128670201525, null, 0.03664774299318793, 0.06421703965128427, null, 0.9924242424242424, 0.9924242424242424, null, 0.9924242424242424, 0.9742641841437802, null], \"line\": {\"color\": \"rgb(0, 0, 0)\", \"width\": 2}, \"y\": [0.5, 1.0, null, 0.966430854395385, 0.906182816233176, null, 0.966430854395385, 0.967759498957256, null, 0.5, 0.0, null, 0.03356914560461503, 0.032240501042743994, null, 0.03356914560461503, 0.09381718376682407, null, 1.0, 1.0, null, 1.0, 0.9652590189417244, null, 1.0, 1.0347409810582755, null, 1.0, 0.0, null, 0.07246376811594203, 0.13605670738336034, null, 1.0, 0.0, null, 0.07246376811594203, 0.13605670738336034, null, 0.0, 1.0, null, 0.927536231884058, 0.8639432926166397, null, 0.0, 1.0, null, 0.9476346480327754, 0.8776659754484841, null, 0.9476346480327754, 0.9256934811496907, null, 0.0, 0.0, null, 0.0, -0.03474098105827558, null, 0.0, 0.03474098105827558, null, 0.0, 0.5, null, 0.481676128503406, 0.4992073320037643, null, 0.481676128503406, 0.4319835048195859, null, 0.0, 1.0, null, 0.927536231884058, 0.8639432926166397, null], \"hoverinfo\": \"none\", \"mode\": \"lines\"}, {\"x\": [0.0, 0.5, 1.0, 0.5, 1.0], \"textposition\": \"middle center\", \"mode\": \"markers+text\", \"marker\": {\"line\": {\"color\": \"rgb(0, 0, 0)\", \"width\": 2}, \"color\": \"rgb(255, 255, 255)\", \"size\": 20}, \"y\": [0.5, 1.0, 1.0, 0.0, 0.0], \"hoverinfo\": \"none\", \"text\": [], \"textfont\": {\"color\": \"rgb(0, 0, 0)\"}}], {\"xaxis\": {\"showticklabels\": false, \"zeroline\": false, \"showgrid\": false}, \"margin\": {\"t\": 0, \"b\": 0, \"l\": 0, \"r\": 0}, \"showlegend\": false, \"yaxis\": {\"showticklabels\": false, \"zeroline\": false, \"showgrid\": false}, \"width\": 320, \"height\": 180}, {\"linkText\": \"Export to plot.ly\", \"showLink\": false, \"displayModeBar\": false})});</script>"
      ]
     },
     "metadata": {},
     "output_type": "display_data"
    }
   ],
   "source": [
    "sn.graph_width = 320\n",
    "sn.graph_height = 180\n",
    "\n",
    "sn.show_graph(dg)"
   ]
  },
  {
   "cell_type": "markdown",
   "metadata": {},
   "source": [
    "Essa é a representação mais comum de grafos dirigidos: círculos como nós e setas como arestas. Se uma seta *sai* do círculo que representa $n$ e *entra* no círculo que representa $m$, ela representa a aresta $(n, m)$.\n",
    "\n",
    "Note que as duas primeiras linhas não são necessárias se você rodou a célula anterior, pois os valores atribuídos a `graph_width` e `graph_height` são exatamente iguais.\n",
    "\n",
    "\n",
    "## Atributos de nós e arestas\n",
    "\n",
    "Na estrutura de dados usada pela `socnet`, os nós são *inteiros* e cada nó é asssociado a um *dicionário* que armazena seus atributos. Vamos modificar e imprimir o atributo `color` do nó $0$ do grafo `ug`. Esse atributo existe por padrão."
   ]
  },
  {
   "cell_type": "code",
   "execution_count": 9,
   "metadata": {},
   "outputs": [
    {
     "name": "stdout",
     "output_type": "stream",
     "text": [
      "(255, 0, 0)\n"
     ]
    }
   ],
   "source": [
    "ug.nodes[0]['color'] = (255, 0, 0)\n",
    "\n",
    "print(ug.nodes[0]['color'])"
   ]
  },
  {
   "cell_type": "markdown",
   "metadata": {},
   "source": [
    "Cada aresta também é asssociada a um dicionário que armazena seus atributos. Vamos modificar e imprimir o atributo `color` da aresta $\\{1, 2\\}$ do grafo `ug`. Esse atributo existe por padrão."
   ]
  },
  {
   "cell_type": "code",
   "execution_count": 10,
   "metadata": {},
   "outputs": [
    {
     "name": "stdout",
     "output_type": "stream",
     "text": [
      "(0, 255, 0)\n"
     ]
    }
   ],
   "source": [
    "ug.edges[1, 2]['color'] = (0, 255, 0)\n",
    "\n",
    "print(ug.edges[1, 2]['color'])"
   ]
  },
  {
   "cell_type": "markdown",
   "metadata": {},
   "source": [
    "Note que a ordem dos nós não importa, pois `ug` é um grafo não-dirigido."
   ]
  },
  {
   "cell_type": "code",
   "execution_count": 12,
   "metadata": {},
   "outputs": [
    {
     "name": "stdout",
     "output_type": "stream",
     "text": [
      "(0, 0, 255)\n"
     ]
    }
   ],
   "source": [
    "ug.edges[2, 1]['color'] = (0, 0, 255)\n",
    "\n",
    "print(ug.edges[1, 2]['color'])"
   ]
  },
  {
   "cell_type": "markdown",
   "metadata": {},
   "source": [
    "Os atributos `color` são exibidos na visualização."
   ]
  },
  {
   "cell_type": "code",
   "execution_count": 13,
   "metadata": {},
   "outputs": [
    {
     "data": {
      "application/vnd.plotly.v1+json": {
       "data": [
        {
         "hoverinfo": "none",
         "line": {
          "color": "rgb(0, 0, 255)",
          "width": 2
         },
         "mode": "lines",
         "x": [
          0.25,
          0.5,
          null
         ],
         "y": [
          1,
          1,
          null
         ]
        },
        {
         "hoverinfo": "none",
         "line": {
          "color": "rgb(0, 0, 0)",
          "width": 2
         },
         "mode": "lines",
         "x": [
          0,
          0.25,
          null,
          0,
          0.25,
          null,
          0.25,
          0.25,
          null,
          0.5,
          0.375,
          null,
          0.5,
          0.75,
          null,
          0.5,
          0.75,
          null,
          0.75,
          1,
          null,
          0.75,
          0.75,
          null,
          1,
          0.75,
          null,
          0.75,
          0.5,
          null,
          0.5,
          0.375,
          null,
          0.5,
          0.25,
          null,
          0.25,
          0.375,
          null
         ],
         "y": [
          0.5,
          1,
          null,
          0.5,
          0,
          null,
          1,
          0,
          null,
          1,
          0.5,
          null,
          1,
          1,
          null,
          1,
          0,
          null,
          1,
          0.5,
          null,
          1,
          0,
          null,
          0.5,
          0,
          null,
          0,
          0,
          null,
          0,
          0.5,
          null,
          0,
          0,
          null,
          0,
          0.5,
          null
         ]
        },
        {
         "hoverinfo": "none",
         "marker": {
          "color": "rgb(255, 255, 255)",
          "line": {
           "color": "rgb(0, 0, 0)",
           "width": 2
          },
          "size": 20
         },
         "mode": "markers+text",
         "text": [],
         "textfont": {
          "color": "rgb(0, 0, 0)"
         },
         "textposition": "middle center",
         "x": [
          0.25,
          0.5,
          0.75,
          1,
          0.75,
          0.5,
          0.25,
          0.375
         ],
         "y": [
          1,
          1,
          1,
          0.5,
          0,
          0,
          0,
          0.5
         ]
        },
        {
         "hoverinfo": "none",
         "marker": {
          "color": "rgb(255, 0, 0)",
          "line": {
           "color": "rgb(0, 0, 0)",
           "width": 2
          },
          "size": 20
         },
         "mode": "markers+text",
         "text": [],
         "textfont": {
          "color": "rgb(255, 255, 255)"
         },
         "textposition": "middle center",
         "x": [
          0
         ],
         "y": [
          0.5
         ]
        }
       ],
       "layout": {
        "height": 180,
        "margin": {
         "b": 0,
         "l": 0,
         "r": 0,
         "t": 0
        },
        "showlegend": false,
        "width": 320,
        "xaxis": {
         "showgrid": false,
         "showticklabels": false,
         "zeroline": false
        },
        "yaxis": {
         "showgrid": false,
         "showticklabels": false,
         "zeroline": false
        }
       }
      },
      "text/html": [
       "<div id=\"26e47587-f888-4e48-b550-46aa5c83554c\" style=\"height: 180px; width: 320px;\" class=\"plotly-graph-div\"></div><script type=\"text/javascript\">require([\"plotly\"], function(Plotly) { window.PLOTLYENV=window.PLOTLYENV || {};window.PLOTLYENV.BASE_URL=\"https://plot.ly\";Plotly.newPlot(\"26e47587-f888-4e48-b550-46aa5c83554c\", [{\"x\": [0.25, 0.5, null], \"line\": {\"color\": \"rgb(0, 0, 255)\", \"width\": 2}, \"y\": [1.0, 1.0, null], \"hoverinfo\": \"none\", \"mode\": \"lines\"}, {\"x\": [0.0, 0.25, null, 0.0, 0.25, null, 0.25, 0.25, null, 0.5, 0.375, null, 0.5, 0.75, null, 0.5, 0.75, null, 0.75, 1.0, null, 0.75, 0.75, null, 1.0, 0.75, null, 0.75, 0.5, null, 0.5, 0.375, null, 0.5, 0.25, null, 0.25, 0.375, null], \"line\": {\"color\": \"rgb(0, 0, 0)\", \"width\": 2}, \"y\": [0.5, 1.0, null, 0.5, 0.0, null, 1.0, 0.0, null, 1.0, 0.5, null, 1.0, 1.0, null, 1.0, 0.0, null, 1.0, 0.5, null, 1.0, 0.0, null, 0.5, 0.0, null, 0.0, 0.0, null, 0.0, 0.5, null, 0.0, 0.0, null, 0.0, 0.5, null], \"hoverinfo\": \"none\", \"mode\": \"lines\"}, {\"x\": [0.25, 0.5, 0.75, 1.0, 0.75, 0.5, 0.25, 0.375], \"textposition\": \"middle center\", \"mode\": \"markers+text\", \"marker\": {\"line\": {\"color\": \"rgb(0, 0, 0)\", \"width\": 2}, \"color\": \"rgb(255, 255, 255)\", \"size\": 20}, \"y\": [1.0, 1.0, 1.0, 0.5, 0.0, 0.0, 0.0, 0.5], \"hoverinfo\": \"none\", \"text\": [], \"textfont\": {\"color\": \"rgb(0, 0, 0)\"}}, {\"x\": [0.0], \"textposition\": \"middle center\", \"mode\": \"markers+text\", \"marker\": {\"line\": {\"color\": \"rgb(0, 0, 0)\", \"width\": 2}, \"color\": \"rgb(255, 0, 0)\", \"size\": 20}, \"y\": [0.5], \"hoverinfo\": \"none\", \"text\": [], \"textfont\": {\"color\": \"rgb(255, 255, 255)\"}}], {\"xaxis\": {\"showticklabels\": false, \"zeroline\": false, \"showgrid\": false}, \"margin\": {\"t\": 0, \"b\": 0, \"l\": 0, \"r\": 0}, \"showlegend\": false, \"yaxis\": {\"showticklabels\": false, \"zeroline\": false, \"showgrid\": false}, \"width\": 320, \"height\": 180}, {\"linkText\": \"Export to plot.ly\", \"showLink\": false, \"displayModeBar\": false})});</script>"
      ],
      "text/vnd.plotly.v1+html": [
       "<div id=\"26e47587-f888-4e48-b550-46aa5c83554c\" style=\"height: 180px; width: 320px;\" class=\"plotly-graph-div\"></div><script type=\"text/javascript\">require([\"plotly\"], function(Plotly) { window.PLOTLYENV=window.PLOTLYENV || {};window.PLOTLYENV.BASE_URL=\"https://plot.ly\";Plotly.newPlot(\"26e47587-f888-4e48-b550-46aa5c83554c\", [{\"x\": [0.25, 0.5, null], \"line\": {\"color\": \"rgb(0, 0, 255)\", \"width\": 2}, \"y\": [1.0, 1.0, null], \"hoverinfo\": \"none\", \"mode\": \"lines\"}, {\"x\": [0.0, 0.25, null, 0.0, 0.25, null, 0.25, 0.25, null, 0.5, 0.375, null, 0.5, 0.75, null, 0.5, 0.75, null, 0.75, 1.0, null, 0.75, 0.75, null, 1.0, 0.75, null, 0.75, 0.5, null, 0.5, 0.375, null, 0.5, 0.25, null, 0.25, 0.375, null], \"line\": {\"color\": \"rgb(0, 0, 0)\", \"width\": 2}, \"y\": [0.5, 1.0, null, 0.5, 0.0, null, 1.0, 0.0, null, 1.0, 0.5, null, 1.0, 1.0, null, 1.0, 0.0, null, 1.0, 0.5, null, 1.0, 0.0, null, 0.5, 0.0, null, 0.0, 0.0, null, 0.0, 0.5, null, 0.0, 0.0, null, 0.0, 0.5, null], \"hoverinfo\": \"none\", \"mode\": \"lines\"}, {\"x\": [0.25, 0.5, 0.75, 1.0, 0.75, 0.5, 0.25, 0.375], \"textposition\": \"middle center\", \"mode\": \"markers+text\", \"marker\": {\"line\": {\"color\": \"rgb(0, 0, 0)\", \"width\": 2}, \"color\": \"rgb(255, 255, 255)\", \"size\": 20}, \"y\": [1.0, 1.0, 1.0, 0.5, 0.0, 0.0, 0.0, 0.5], \"hoverinfo\": \"none\", \"text\": [], \"textfont\": {\"color\": \"rgb(0, 0, 0)\"}}, {\"x\": [0.0], \"textposition\": \"middle center\", \"mode\": \"markers+text\", \"marker\": {\"line\": {\"color\": \"rgb(0, 0, 0)\", \"width\": 2}, \"color\": \"rgb(255, 0, 0)\", \"size\": 20}, \"y\": [0.5], \"hoverinfo\": \"none\", \"text\": [], \"textfont\": {\"color\": \"rgb(255, 255, 255)\"}}], {\"xaxis\": {\"showticklabels\": false, \"zeroline\": false, \"showgrid\": false}, \"margin\": {\"t\": 0, \"b\": 0, \"l\": 0, \"r\": 0}, \"showlegend\": false, \"yaxis\": {\"showticklabels\": false, \"zeroline\": false, \"showgrid\": false}, \"width\": 320, \"height\": 180}, {\"linkText\": \"Export to plot.ly\", \"showLink\": false, \"displayModeBar\": false})});</script>"
      ]
     },
     "metadata": {},
     "output_type": "display_data"
    }
   ],
   "source": [
    "sn.show_graph(ug)"
   ]
  },
  {
   "cell_type": "markdown",
   "metadata": {},
   "source": [
    "Podemos usar funções de conveniência para reinicializar as cores."
   ]
  },
  {
   "cell_type": "code",
   "execution_count": 14,
   "metadata": {},
   "outputs": [
    {
     "data": {
      "application/vnd.plotly.v1+json": {
       "data": [
        {
         "hoverinfo": "none",
         "line": {
          "color": "rgb(0, 0, 0)",
          "width": 2
         },
         "mode": "lines",
         "x": [
          0,
          0.25,
          null,
          0,
          0.25,
          null,
          0.25,
          0.5,
          null,
          0.25,
          0.25,
          null,
          0.5,
          0.375,
          null,
          0.5,
          0.75,
          null,
          0.5,
          0.75,
          null,
          0.75,
          1,
          null,
          0.75,
          0.75,
          null,
          1,
          0.75,
          null,
          0.75,
          0.5,
          null,
          0.5,
          0.375,
          null,
          0.5,
          0.25,
          null,
          0.25,
          0.375,
          null
         ],
         "y": [
          0.5,
          1,
          null,
          0.5,
          0,
          null,
          1,
          1,
          null,
          1,
          0,
          null,
          1,
          0.5,
          null,
          1,
          1,
          null,
          1,
          0,
          null,
          1,
          0.5,
          null,
          1,
          0,
          null,
          0.5,
          0,
          null,
          0,
          0,
          null,
          0,
          0.5,
          null,
          0,
          0,
          null,
          0,
          0.5,
          null
         ]
        },
        {
         "hoverinfo": "none",
         "marker": {
          "color": "rgb(255, 255, 255)",
          "line": {
           "color": "rgb(0, 0, 0)",
           "width": 2
          },
          "size": 20
         },
         "mode": "markers+text",
         "text": [],
         "textfont": {
          "color": "rgb(0, 0, 0)"
         },
         "textposition": "middle center",
         "x": [
          0,
          0.25,
          0.5,
          0.75,
          1,
          0.75,
          0.5,
          0.25,
          0.375
         ],
         "y": [
          0.5,
          1,
          1,
          1,
          0.5,
          0,
          0,
          0,
          0.5
         ]
        }
       ],
       "layout": {
        "height": 180,
        "margin": {
         "b": 0,
         "l": 0,
         "r": 0,
         "t": 0
        },
        "showlegend": false,
        "width": 320,
        "xaxis": {
         "showgrid": false,
         "showticklabels": false,
         "zeroline": false
        },
        "yaxis": {
         "showgrid": false,
         "showticklabels": false,
         "zeroline": false
        }
       }
      },
      "text/html": [
       "<div id=\"9ad5e77a-6832-4e43-a80d-1bef82188c71\" style=\"height: 180px; width: 320px;\" class=\"plotly-graph-div\"></div><script type=\"text/javascript\">require([\"plotly\"], function(Plotly) { window.PLOTLYENV=window.PLOTLYENV || {};window.PLOTLYENV.BASE_URL=\"https://plot.ly\";Plotly.newPlot(\"9ad5e77a-6832-4e43-a80d-1bef82188c71\", [{\"x\": [0.0, 0.25, null, 0.0, 0.25, null, 0.25, 0.5, null, 0.25, 0.25, null, 0.5, 0.375, null, 0.5, 0.75, null, 0.5, 0.75, null, 0.75, 1.0, null, 0.75, 0.75, null, 1.0, 0.75, null, 0.75, 0.5, null, 0.5, 0.375, null, 0.5, 0.25, null, 0.25, 0.375, null], \"line\": {\"color\": \"rgb(0, 0, 0)\", \"width\": 2}, \"y\": [0.5, 1.0, null, 0.5, 0.0, null, 1.0, 1.0, null, 1.0, 0.0, null, 1.0, 0.5, null, 1.0, 1.0, null, 1.0, 0.0, null, 1.0, 0.5, null, 1.0, 0.0, null, 0.5, 0.0, null, 0.0, 0.0, null, 0.0, 0.5, null, 0.0, 0.0, null, 0.0, 0.5, null], \"hoverinfo\": \"none\", \"mode\": \"lines\"}, {\"x\": [0.0, 0.25, 0.5, 0.75, 1.0, 0.75, 0.5, 0.25, 0.375], \"textposition\": \"middle center\", \"mode\": \"markers+text\", \"marker\": {\"line\": {\"color\": \"rgb(0, 0, 0)\", \"width\": 2}, \"color\": \"rgb(255, 255, 255)\", \"size\": 20}, \"y\": [0.5, 1.0, 1.0, 1.0, 0.5, 0.0, 0.0, 0.0, 0.5], \"hoverinfo\": \"none\", \"text\": [], \"textfont\": {\"color\": \"rgb(0, 0, 0)\"}}], {\"xaxis\": {\"showticklabels\": false, \"zeroline\": false, \"showgrid\": false}, \"margin\": {\"t\": 0, \"b\": 0, \"l\": 0, \"r\": 0}, \"showlegend\": false, \"yaxis\": {\"showticklabels\": false, \"zeroline\": false, \"showgrid\": false}, \"width\": 320, \"height\": 180}, {\"linkText\": \"Export to plot.ly\", \"showLink\": false, \"displayModeBar\": false})});</script>"
      ],
      "text/vnd.plotly.v1+html": [
       "<div id=\"9ad5e77a-6832-4e43-a80d-1bef82188c71\" style=\"height: 180px; width: 320px;\" class=\"plotly-graph-div\"></div><script type=\"text/javascript\">require([\"plotly\"], function(Plotly) { window.PLOTLYENV=window.PLOTLYENV || {};window.PLOTLYENV.BASE_URL=\"https://plot.ly\";Plotly.newPlot(\"9ad5e77a-6832-4e43-a80d-1bef82188c71\", [{\"x\": [0.0, 0.25, null, 0.0, 0.25, null, 0.25, 0.5, null, 0.25, 0.25, null, 0.5, 0.375, null, 0.5, 0.75, null, 0.5, 0.75, null, 0.75, 1.0, null, 0.75, 0.75, null, 1.0, 0.75, null, 0.75, 0.5, null, 0.5, 0.375, null, 0.5, 0.25, null, 0.25, 0.375, null], \"line\": {\"color\": \"rgb(0, 0, 0)\", \"width\": 2}, \"y\": [0.5, 1.0, null, 0.5, 0.0, null, 1.0, 1.0, null, 1.0, 0.0, null, 1.0, 0.5, null, 1.0, 1.0, null, 1.0, 0.0, null, 1.0, 0.5, null, 1.0, 0.0, null, 0.5, 0.0, null, 0.0, 0.0, null, 0.0, 0.5, null, 0.0, 0.0, null, 0.0, 0.5, null], \"hoverinfo\": \"none\", \"mode\": \"lines\"}, {\"x\": [0.0, 0.25, 0.5, 0.75, 1.0, 0.75, 0.5, 0.25, 0.375], \"textposition\": \"middle center\", \"mode\": \"markers+text\", \"marker\": {\"line\": {\"color\": \"rgb(0, 0, 0)\", \"width\": 2}, \"color\": \"rgb(255, 255, 255)\", \"size\": 20}, \"y\": [0.5, 1.0, 1.0, 1.0, 0.5, 0.0, 0.0, 0.0, 0.5], \"hoverinfo\": \"none\", \"text\": [], \"textfont\": {\"color\": \"rgb(0, 0, 0)\"}}], {\"xaxis\": {\"showticklabels\": false, \"zeroline\": false, \"showgrid\": false}, \"margin\": {\"t\": 0, \"b\": 0, \"l\": 0, \"r\": 0}, \"showlegend\": false, \"yaxis\": {\"showticklabels\": false, \"zeroline\": false, \"showgrid\": false}, \"width\": 320, \"height\": 180}, {\"linkText\": \"Export to plot.ly\", \"showLink\": false, \"displayModeBar\": false})});</script>"
      ]
     },
     "metadata": {},
     "output_type": "display_data"
    }
   ],
   "source": [
    "sn.reset_node_colors(ug)\n",
    "sn.reset_edge_colors(ug)\n",
    "\n",
    "sn.show_graph(ug)"
   ]
  },
  {
   "cell_type": "markdown",
   "metadata": {},
   "source": [
    "Os atributos `label` também podem ser exibidos na visualização, mas não existem por padrão. Primeiramente, precisamos criá-los."
   ]
  },
  {
   "cell_type": "code",
   "execution_count": 15,
   "metadata": {},
   "outputs": [],
   "source": [
    "for n in ug.nodes:\n",
    "    ug.nodes[n]['label'] = str(n)\n",
    "for n, m in ug.edges:\n",
    "    ug.edges[n, m]['label'] = '?'\n",
    "\n",
    "for n in dg.nodes:\n",
    "    dg.nodes[n]['label'] = str(n)\n",
    "for n, m in dg.edges:\n",
    "    dg.edges[n, m]['label'] = '?'"
   ]
  },
  {
   "cell_type": "markdown",
   "metadata": {},
   "source": [
    "Depois, precisamos usar os argumentos `nlab` e `elab` para indicar que queremos exibi-los. Esses argumentos são `False` por padrão. "
   ]
  },
  {
   "cell_type": "code",
   "execution_count": 20,
   "metadata": {},
   "outputs": [
    {
     "data": {
      "application/vnd.plotly.v1+json": {
       "data": [
        {
         "hoverinfo": "none",
         "line": {
          "color": "rgb(0, 0, 0)",
          "width": 2
         },
         "mode": "lines",
         "x": [
          0,
          0.25,
          null,
          0,
          0.25,
          null,
          0.25,
          0.5,
          null,
          0.25,
          0.25,
          null,
          0.5,
          0.375,
          null,
          0.5,
          0.75,
          null,
          0.5,
          0.75,
          null,
          0.75,
          1,
          null,
          0.75,
          0.75,
          null,
          1,
          0.75,
          null,
          0.75,
          0.5,
          null,
          0.5,
          0.375,
          null,
          0.5,
          0.25,
          null,
          0.25,
          0.375,
          null
         ],
         "y": [
          0.5,
          1,
          null,
          0.5,
          0,
          null,
          1,
          1,
          null,
          1,
          0,
          null,
          1,
          0.5,
          null,
          1,
          1,
          null,
          1,
          0,
          null,
          1,
          0.5,
          null,
          1,
          0,
          null,
          0.5,
          0,
          null,
          0,
          0,
          null,
          0,
          0.5,
          null,
          0,
          0,
          null,
          0,
          0.5,
          null
         ]
        },
        {
         "hoverinfo": "none",
         "marker": {
          "color": "rgb(255, 255, 255)",
          "line": {
           "color": "rgb(0, 0, 0)",
           "width": 2
          },
          "size": 20
         },
         "mode": "markers+text",
         "text": [
          "0",
          "1",
          "2",
          "3",
          "4",
          "5",
          "6",
          "7",
          "8"
         ],
         "textfont": {
          "color": "rgb(0, 0, 0)"
         },
         "textposition": "middle center",
         "x": [
          0,
          0.25,
          0.5,
          0.75,
          1,
          0.75,
          0.5,
          0.25,
          0.375
         ],
         "y": [
          0.5,
          1,
          1,
          1,
          0.5,
          0,
          0,
          0,
          0.5
         ]
        },
        {
         "hoverinfo": "none",
         "mode": "text",
         "text": [
          "?",
          "?",
          "?",
          "?",
          "?",
          "?",
          "?",
          "?",
          "?",
          "?",
          "?",
          "?",
          "?",
          "?"
         ],
         "textfont": {
          "color": "rgb(0, 0, 0)"
         },
         "textposition": "middle center",
         "x": [
          0.08835225700681207,
          0.16164774299318793,
          0.375,
          0.2878787878787879,
          0.4750594305323629,
          0.625,
          0.6625594305323629,
          0.911647742993188,
          0.7878787878787878,
          0.911647742993188,
          0.625,
          0.3999405694676371,
          0.375,
          0.2749405694676371
         ],
         "y": [
          0.768323871496594,
          0.268323871496594,
          1.0724637681159421,
          0.5,
          0.7406101423669093,
          1.0724637681159421,
          0.5093898576330907,
          0.768323871496594,
          0.5,
          0.23167612850340602,
          -0.07246376811594203,
          0.24061014236690928,
          -0.07246376811594203,
          0.2593898576330907
         ]
        }
       ],
       "layout": {
        "height": 180,
        "margin": {
         "b": 0,
         "l": 0,
         "r": 0,
         "t": 0
        },
        "showlegend": false,
        "width": 320,
        "xaxis": {
         "showgrid": false,
         "showticklabels": false,
         "zeroline": false
        },
        "yaxis": {
         "showgrid": false,
         "showticklabels": false,
         "zeroline": false
        }
       }
      },
      "text/html": [
       "<div id=\"82a9cdaf-cd79-45fc-b06b-572925418168\" style=\"height: 180px; width: 320px;\" class=\"plotly-graph-div\"></div><script type=\"text/javascript\">require([\"plotly\"], function(Plotly) { window.PLOTLYENV=window.PLOTLYENV || {};window.PLOTLYENV.BASE_URL=\"https://plot.ly\";Plotly.newPlot(\"82a9cdaf-cd79-45fc-b06b-572925418168\", [{\"x\": [0.0, 0.25, null, 0.0, 0.25, null, 0.25, 0.5, null, 0.25, 0.25, null, 0.5, 0.375, null, 0.5, 0.75, null, 0.5, 0.75, null, 0.75, 1.0, null, 0.75, 0.75, null, 1.0, 0.75, null, 0.75, 0.5, null, 0.5, 0.375, null, 0.5, 0.25, null, 0.25, 0.375, null], \"line\": {\"color\": \"rgb(0, 0, 0)\", \"width\": 2}, \"y\": [0.5, 1.0, null, 0.5, 0.0, null, 1.0, 1.0, null, 1.0, 0.0, null, 1.0, 0.5, null, 1.0, 1.0, null, 1.0, 0.0, null, 1.0, 0.5, null, 1.0, 0.0, null, 0.5, 0.0, null, 0.0, 0.0, null, 0.0, 0.5, null, 0.0, 0.0, null, 0.0, 0.5, null], \"hoverinfo\": \"none\", \"mode\": \"lines\"}, {\"x\": [0.0, 0.25, 0.5, 0.75, 1.0, 0.75, 0.5, 0.25, 0.375], \"textposition\": \"middle center\", \"mode\": \"markers+text\", \"marker\": {\"line\": {\"color\": \"rgb(0, 0, 0)\", \"width\": 2}, \"color\": \"rgb(255, 255, 255)\", \"size\": 20}, \"y\": [0.5, 1.0, 1.0, 1.0, 0.5, 0.0, 0.0, 0.0, 0.5], \"hoverinfo\": \"none\", \"text\": [\"0\", \"1\", \"2\", \"3\", \"4\", \"5\", \"6\", \"7\", \"8\"], \"textfont\": {\"color\": \"rgb(0, 0, 0)\"}}, {\"x\": [0.08835225700681207, 0.16164774299318793, 0.375, 0.2878787878787879, 0.4750594305323629, 0.625, 0.6625594305323629, 0.911647742993188, 0.7878787878787878, 0.911647742993188, 0.625, 0.3999405694676371, 0.375, 0.2749405694676371], \"textposition\": \"middle center\", \"mode\": \"text\", \"y\": [0.768323871496594, 0.268323871496594, 1.0724637681159421, 0.5, 0.7406101423669093, 1.0724637681159421, 0.5093898576330907, 0.768323871496594, 0.5, 0.23167612850340602, -0.07246376811594203, 0.24061014236690928, -0.07246376811594203, 0.2593898576330907], \"hoverinfo\": \"none\", \"text\": [\"?\", \"?\", \"?\", \"?\", \"?\", \"?\", \"?\", \"?\", \"?\", \"?\", \"?\", \"?\", \"?\", \"?\"], \"textfont\": {\"color\": \"rgb(0, 0, 0)\"}}], {\"xaxis\": {\"showticklabels\": false, \"zeroline\": false, \"showgrid\": false}, \"margin\": {\"t\": 0, \"b\": 0, \"l\": 0, \"r\": 0}, \"showlegend\": false, \"yaxis\": {\"showticklabels\": false, \"zeroline\": false, \"showgrid\": false}, \"width\": 320, \"height\": 180}, {\"linkText\": \"Export to plot.ly\", \"showLink\": false, \"displayModeBar\": false})});</script>"
      ],
      "text/vnd.plotly.v1+html": [
       "<div id=\"82a9cdaf-cd79-45fc-b06b-572925418168\" style=\"height: 180px; width: 320px;\" class=\"plotly-graph-div\"></div><script type=\"text/javascript\">require([\"plotly\"], function(Plotly) { window.PLOTLYENV=window.PLOTLYENV || {};window.PLOTLYENV.BASE_URL=\"https://plot.ly\";Plotly.newPlot(\"82a9cdaf-cd79-45fc-b06b-572925418168\", [{\"x\": [0.0, 0.25, null, 0.0, 0.25, null, 0.25, 0.5, null, 0.25, 0.25, null, 0.5, 0.375, null, 0.5, 0.75, null, 0.5, 0.75, null, 0.75, 1.0, null, 0.75, 0.75, null, 1.0, 0.75, null, 0.75, 0.5, null, 0.5, 0.375, null, 0.5, 0.25, null, 0.25, 0.375, null], \"line\": {\"color\": \"rgb(0, 0, 0)\", \"width\": 2}, \"y\": [0.5, 1.0, null, 0.5, 0.0, null, 1.0, 1.0, null, 1.0, 0.0, null, 1.0, 0.5, null, 1.0, 1.0, null, 1.0, 0.0, null, 1.0, 0.5, null, 1.0, 0.0, null, 0.5, 0.0, null, 0.0, 0.0, null, 0.0, 0.5, null, 0.0, 0.0, null, 0.0, 0.5, null], \"hoverinfo\": \"none\", \"mode\": \"lines\"}, {\"x\": [0.0, 0.25, 0.5, 0.75, 1.0, 0.75, 0.5, 0.25, 0.375], \"textposition\": \"middle center\", \"mode\": \"markers+text\", \"marker\": {\"line\": {\"color\": \"rgb(0, 0, 0)\", \"width\": 2}, \"color\": \"rgb(255, 255, 255)\", \"size\": 20}, \"y\": [0.5, 1.0, 1.0, 1.0, 0.5, 0.0, 0.0, 0.0, 0.5], \"hoverinfo\": \"none\", \"text\": [\"0\", \"1\", \"2\", \"3\", \"4\", \"5\", \"6\", \"7\", \"8\"], \"textfont\": {\"color\": \"rgb(0, 0, 0)\"}}, {\"x\": [0.08835225700681207, 0.16164774299318793, 0.375, 0.2878787878787879, 0.4750594305323629, 0.625, 0.6625594305323629, 0.911647742993188, 0.7878787878787878, 0.911647742993188, 0.625, 0.3999405694676371, 0.375, 0.2749405694676371], \"textposition\": \"middle center\", \"mode\": \"text\", \"y\": [0.768323871496594, 0.268323871496594, 1.0724637681159421, 0.5, 0.7406101423669093, 1.0724637681159421, 0.5093898576330907, 0.768323871496594, 0.5, 0.23167612850340602, -0.07246376811594203, 0.24061014236690928, -0.07246376811594203, 0.2593898576330907], \"hoverinfo\": \"none\", \"text\": [\"?\", \"?\", \"?\", \"?\", \"?\", \"?\", \"?\", \"?\", \"?\", \"?\", \"?\", \"?\", \"?\", \"?\"], \"textfont\": {\"color\": \"rgb(0, 0, 0)\"}}], {\"xaxis\": {\"showticklabels\": false, \"zeroline\": false, \"showgrid\": false}, \"margin\": {\"t\": 0, \"b\": 0, \"l\": 0, \"r\": 0}, \"showlegend\": false, \"yaxis\": {\"showticklabels\": false, \"zeroline\": false, \"showgrid\": false}, \"width\": 320, \"height\": 180}, {\"linkText\": \"Export to plot.ly\", \"showLink\": false, \"displayModeBar\": false})});</script>"
      ]
     },
     "metadata": {},
     "output_type": "display_data"
    },
    {
     "data": {
      "application/vnd.plotly.v1+json": {
       "data": [
        {
         "hoverinfo": "none",
         "line": {
          "color": "rgb(0, 0, 0)",
          "width": 2
         },
         "mode": "lines",
         "x": [
          0,
          0.5,
          null,
          0.46643085439538495,
          0.44538388103556675,
          null,
          0.46643085439538495,
          0.4285584341548651,
          null,
          0,
          0.5,
          null,
          0.46643085439538495,
          0.4285584341548651,
          null,
          0.46643085439538495,
          0.44538388103556675,
          null,
          0.5,
          1,
          null,
          0.9621212121212122,
          0.9288794484132434,
          null,
          0.9621212121212122,
          0.9288794484132434,
          null,
          0.5075757575757576,
          0.5075757575757576,
          null,
          0.5075757575757576,
          0.5257358158562198,
          null,
          1.0075757575757576,
          1.0075757575757576,
          null,
          1.0075757575757576,
          1.0257358158562198,
          null,
          0.49242424242424243,
          0.49242424242424243,
          null,
          0.49242424242424243,
          0.4742641841437802,
          null,
          0.5,
          1,
          null,
          0.9738173240163878,
          0.9639630823912474,
          null,
          0.9738173240163878,
          0.9377166459078401,
          null,
          0.5,
          1,
          null,
          0.9621212121212122,
          0.9288794484132434,
          null,
          0.9621212121212122,
          0.9288794484132434,
          null,
          1,
          0,
          null,
          0.03664774299318793,
          0.07340128670201525,
          null,
          0.03664774299318793,
          0.06421703965128427,
          null,
          0.9924242424242424,
          0.9924242424242424,
          null,
          0.9924242424242424,
          0.9742641841437802,
          null
         ],
         "y": [
          0.5,
          1,
          null,
          0.966430854395385,
          0.906182816233176,
          null,
          0.966430854395385,
          0.967759498957256,
          null,
          0.5,
          0,
          null,
          0.03356914560461503,
          0.032240501042743994,
          null,
          0.03356914560461503,
          0.09381718376682407,
          null,
          1,
          1,
          null,
          1,
          0.9652590189417244,
          null,
          1,
          1.0347409810582755,
          null,
          1,
          0,
          null,
          0.07246376811594203,
          0.13605670738336034,
          null,
          1,
          0,
          null,
          0.07246376811594203,
          0.13605670738336034,
          null,
          0,
          1,
          null,
          0.927536231884058,
          0.8639432926166397,
          null,
          0,
          1,
          null,
          0.9476346480327754,
          0.8776659754484841,
          null,
          0.9476346480327754,
          0.9256934811496907,
          null,
          0,
          0,
          null,
          0,
          -0.03474098105827558,
          null,
          0,
          0.03474098105827558,
          null,
          0,
          0.5,
          null,
          0.481676128503406,
          0.4992073320037643,
          null,
          0.481676128503406,
          0.4319835048195859,
          null,
          0,
          1,
          null,
          0.927536231884058,
          0.8639432926166397,
          null
         ]
        },
        {
         "hoverinfo": "none",
         "marker": {
          "color": "rgb(255, 255, 255)",
          "line": {
           "color": "rgb(0, 0, 0)",
           "width": 2
          },
          "size": 20
         },
         "mode": "markers+text",
         "text": [
          "0",
          "1",
          "2",
          "3",
          "4"
         ],
         "textfont": {
          "color": "rgb(0, 0, 0)"
         },
         "textposition": "middle center",
         "x": [
          0,
          0.5,
          1,
          0.5,
          1
         ],
         "y": [
          0.5,
          1,
          1,
          0,
          0
         ]
        },
        {
         "hoverinfo": "none",
         "mode": "text",
         "text": [
          "?",
          "?",
          "?",
          "?",
          "?",
          "?",
          "?",
          "?",
          "?",
          "?"
         ],
         "textfont": {
          "color": "rgb(0, 0, 0)"
         },
         "textposition": "middle center",
         "x": [
          0.21643085439538495,
          0.28356914560461505,
          0.75,
          0.5454545454545454,
          1.0454545454545454,
          0.45454545454545453,
          0.713352257006812,
          0.75,
          0.4738173240163877,
          0.9545454545454546
         ],
         "y": [
          0.783569145604615,
          0.28356914560461505,
          1.0724637681159421,
          0.5,
          0.5,
          0.5,
          0.518323871496594,
          0.07246376811594203,
          0.19763464803277542,
          0.5
         ]
        }
       ],
       "layout": {
        "height": 180,
        "margin": {
         "b": 0,
         "l": 0,
         "r": 0,
         "t": 0
        },
        "showlegend": false,
        "width": 320,
        "xaxis": {
         "showgrid": false,
         "showticklabels": false,
         "zeroline": false
        },
        "yaxis": {
         "showgrid": false,
         "showticklabels": false,
         "zeroline": false
        }
       }
      },
      "text/html": [
       "<div id=\"2faeb57d-516f-4453-8564-f29ea15833b2\" style=\"height: 180px; width: 320px;\" class=\"plotly-graph-div\"></div><script type=\"text/javascript\">require([\"plotly\"], function(Plotly) { window.PLOTLYENV=window.PLOTLYENV || {};window.PLOTLYENV.BASE_URL=\"https://plot.ly\";Plotly.newPlot(\"2faeb57d-516f-4453-8564-f29ea15833b2\", [{\"x\": [0.0, 0.5, null, 0.46643085439538495, 0.44538388103556675, null, 0.46643085439538495, 0.4285584341548651, null, 0.0, 0.5, null, 0.46643085439538495, 0.4285584341548651, null, 0.46643085439538495, 0.44538388103556675, null, 0.5, 1.0, null, 0.9621212121212122, 0.9288794484132434, null, 0.9621212121212122, 0.9288794484132434, null, 0.5075757575757576, 0.5075757575757576, null, 0.5075757575757576, 0.5257358158562198, null, 1.0075757575757576, 1.0075757575757576, null, 1.0075757575757576, 1.0257358158562198, null, 0.49242424242424243, 0.49242424242424243, null, 0.49242424242424243, 0.4742641841437802, null, 0.5, 1.0, null, 0.9738173240163878, 0.9639630823912474, null, 0.9738173240163878, 0.9377166459078401, null, 0.5, 1.0, null, 0.9621212121212122, 0.9288794484132434, null, 0.9621212121212122, 0.9288794484132434, null, 1.0, 0.0, null, 0.03664774299318793, 0.07340128670201525, null, 0.03664774299318793, 0.06421703965128427, null, 0.9924242424242424, 0.9924242424242424, null, 0.9924242424242424, 0.9742641841437802, null], \"line\": {\"color\": \"rgb(0, 0, 0)\", \"width\": 2}, \"y\": [0.5, 1.0, null, 0.966430854395385, 0.906182816233176, null, 0.966430854395385, 0.967759498957256, null, 0.5, 0.0, null, 0.03356914560461503, 0.032240501042743994, null, 0.03356914560461503, 0.09381718376682407, null, 1.0, 1.0, null, 1.0, 0.9652590189417244, null, 1.0, 1.0347409810582755, null, 1.0, 0.0, null, 0.07246376811594203, 0.13605670738336034, null, 1.0, 0.0, null, 0.07246376811594203, 0.13605670738336034, null, 0.0, 1.0, null, 0.927536231884058, 0.8639432926166397, null, 0.0, 1.0, null, 0.9476346480327754, 0.8776659754484841, null, 0.9476346480327754, 0.9256934811496907, null, 0.0, 0.0, null, 0.0, -0.03474098105827558, null, 0.0, 0.03474098105827558, null, 0.0, 0.5, null, 0.481676128503406, 0.4992073320037643, null, 0.481676128503406, 0.4319835048195859, null, 0.0, 1.0, null, 0.927536231884058, 0.8639432926166397, null], \"hoverinfo\": \"none\", \"mode\": \"lines\"}, {\"x\": [0.0, 0.5, 1.0, 0.5, 1.0], \"textposition\": \"middle center\", \"mode\": \"markers+text\", \"marker\": {\"line\": {\"color\": \"rgb(0, 0, 0)\", \"width\": 2}, \"color\": \"rgb(255, 255, 255)\", \"size\": 20}, \"y\": [0.5, 1.0, 1.0, 0.0, 0.0], \"hoverinfo\": \"none\", \"text\": [\"0\", \"1\", \"2\", \"3\", \"4\"], \"textfont\": {\"color\": \"rgb(0, 0, 0)\"}}, {\"x\": [0.21643085439538495, 0.28356914560461505, 0.75, 0.5454545454545454, 1.0454545454545454, 0.45454545454545453, 0.713352257006812, 0.75, 0.4738173240163877, 0.9545454545454546], \"textposition\": \"middle center\", \"mode\": \"text\", \"y\": [0.783569145604615, 0.28356914560461505, 1.0724637681159421, 0.5, 0.5, 0.5, 0.518323871496594, 0.07246376811594203, 0.19763464803277542, 0.5], \"hoverinfo\": \"none\", \"text\": [\"?\", \"?\", \"?\", \"?\", \"?\", \"?\", \"?\", \"?\", \"?\", \"?\"], \"textfont\": {\"color\": \"rgb(0, 0, 0)\"}}], {\"xaxis\": {\"showticklabels\": false, \"zeroline\": false, \"showgrid\": false}, \"margin\": {\"t\": 0, \"b\": 0, \"l\": 0, \"r\": 0}, \"showlegend\": false, \"yaxis\": {\"showticklabels\": false, \"zeroline\": false, \"showgrid\": false}, \"width\": 320, \"height\": 180}, {\"linkText\": \"Export to plot.ly\", \"showLink\": false, \"displayModeBar\": false})});</script>"
      ],
      "text/vnd.plotly.v1+html": [
       "<div id=\"2faeb57d-516f-4453-8564-f29ea15833b2\" style=\"height: 180px; width: 320px;\" class=\"plotly-graph-div\"></div><script type=\"text/javascript\">require([\"plotly\"], function(Plotly) { window.PLOTLYENV=window.PLOTLYENV || {};window.PLOTLYENV.BASE_URL=\"https://plot.ly\";Plotly.newPlot(\"2faeb57d-516f-4453-8564-f29ea15833b2\", [{\"x\": [0.0, 0.5, null, 0.46643085439538495, 0.44538388103556675, null, 0.46643085439538495, 0.4285584341548651, null, 0.0, 0.5, null, 0.46643085439538495, 0.4285584341548651, null, 0.46643085439538495, 0.44538388103556675, null, 0.5, 1.0, null, 0.9621212121212122, 0.9288794484132434, null, 0.9621212121212122, 0.9288794484132434, null, 0.5075757575757576, 0.5075757575757576, null, 0.5075757575757576, 0.5257358158562198, null, 1.0075757575757576, 1.0075757575757576, null, 1.0075757575757576, 1.0257358158562198, null, 0.49242424242424243, 0.49242424242424243, null, 0.49242424242424243, 0.4742641841437802, null, 0.5, 1.0, null, 0.9738173240163878, 0.9639630823912474, null, 0.9738173240163878, 0.9377166459078401, null, 0.5, 1.0, null, 0.9621212121212122, 0.9288794484132434, null, 0.9621212121212122, 0.9288794484132434, null, 1.0, 0.0, null, 0.03664774299318793, 0.07340128670201525, null, 0.03664774299318793, 0.06421703965128427, null, 0.9924242424242424, 0.9924242424242424, null, 0.9924242424242424, 0.9742641841437802, null], \"line\": {\"color\": \"rgb(0, 0, 0)\", \"width\": 2}, \"y\": [0.5, 1.0, null, 0.966430854395385, 0.906182816233176, null, 0.966430854395385, 0.967759498957256, null, 0.5, 0.0, null, 0.03356914560461503, 0.032240501042743994, null, 0.03356914560461503, 0.09381718376682407, null, 1.0, 1.0, null, 1.0, 0.9652590189417244, null, 1.0, 1.0347409810582755, null, 1.0, 0.0, null, 0.07246376811594203, 0.13605670738336034, null, 1.0, 0.0, null, 0.07246376811594203, 0.13605670738336034, null, 0.0, 1.0, null, 0.927536231884058, 0.8639432926166397, null, 0.0, 1.0, null, 0.9476346480327754, 0.8776659754484841, null, 0.9476346480327754, 0.9256934811496907, null, 0.0, 0.0, null, 0.0, -0.03474098105827558, null, 0.0, 0.03474098105827558, null, 0.0, 0.5, null, 0.481676128503406, 0.4992073320037643, null, 0.481676128503406, 0.4319835048195859, null, 0.0, 1.0, null, 0.927536231884058, 0.8639432926166397, null], \"hoverinfo\": \"none\", \"mode\": \"lines\"}, {\"x\": [0.0, 0.5, 1.0, 0.5, 1.0], \"textposition\": \"middle center\", \"mode\": \"markers+text\", \"marker\": {\"line\": {\"color\": \"rgb(0, 0, 0)\", \"width\": 2}, \"color\": \"rgb(255, 255, 255)\", \"size\": 20}, \"y\": [0.5, 1.0, 1.0, 0.0, 0.0], \"hoverinfo\": \"none\", \"text\": [\"0\", \"1\", \"2\", \"3\", \"4\"], \"textfont\": {\"color\": \"rgb(0, 0, 0)\"}}, {\"x\": [0.21643085439538495, 0.28356914560461505, 0.75, 0.5454545454545454, 1.0454545454545454, 0.45454545454545453, 0.713352257006812, 0.75, 0.4738173240163877, 0.9545454545454546], \"textposition\": \"middle center\", \"mode\": \"text\", \"y\": [0.783569145604615, 0.28356914560461505, 1.0724637681159421, 0.5, 0.5, 0.5, 0.518323871496594, 0.07246376811594203, 0.19763464803277542, 0.5], \"hoverinfo\": \"none\", \"text\": [\"?\", \"?\", \"?\", \"?\", \"?\", \"?\", \"?\", \"?\", \"?\", \"?\"], \"textfont\": {\"color\": \"rgb(0, 0, 0)\"}}], {\"xaxis\": {\"showticklabels\": false, \"zeroline\": false, \"showgrid\": false}, \"margin\": {\"t\": 0, \"b\": 0, \"l\": 0, \"r\": 0}, \"showlegend\": false, \"yaxis\": {\"showticklabels\": false, \"zeroline\": false, \"showgrid\": false}, \"width\": 320, \"height\": 180}, {\"linkText\": \"Export to plot.ly\", \"showLink\": false, \"displayModeBar\": false})});</script>"
      ]
     },
     "metadata": {},
     "output_type": "display_data"
    }
   ],
   "source": [
    "sn.show_graph(ug, nlab=True, elab=True)\n",
    "sn.show_graph(dg, nlab=True, elab=True)"
   ]
  },
  {
   "cell_type": "markdown",
   "metadata": {},
   "source": [
    "## Vizinhos, predecessores e sucessores\n",
    "\n",
    "Considere um grafo $(N, E)$ e um nó $n$. Suponha que esse grafo é não-dirigido.\n",
    "\n",
    "Nesse caso, dizemos que $n$ é **vizinho** (*neighbor*) de $m$ se $\\{n, m\\} \\in E$. Denotamos por $\\mathcal{N}(n)$ o conjunto dos vizinhos de $n$."
   ]
  },
  {
   "cell_type": "code",
   "execution_count": 21,
   "metadata": {},
   "outputs": [
    {
     "name": "stdout",
     "output_type": "stream",
     "text": [
      "<dict_keyiterator object at 0x7f532a4ddb88>\n"
     ]
    }
   ],
   "source": [
    "print(ug.neighbors(0))"
   ]
  },
  {
   "cell_type": "markdown",
   "metadata": {},
   "source": [
    "Suponha agora que o grafo $(N, E)$ é dirigido.\n",
    "\n",
    "Nesse caso, dizemos que $n$ é **predecessor** de $m$ se $(n, m) \\in E$ e dizemos que $n$ é **sucessor** de $m$ se $(m, n) \\in E$. Denotamos por $\\mathcal{P}(n)$ o conjunto dos predecessores de $n$ e denotamos por $\\mathcal{S}(n)$ o conjunto dos sucessores de $n$."
   ]
  },
  {
   "cell_type": "code",
   "execution_count": 22,
   "metadata": {},
   "outputs": [
    {
     "name": "stdout",
     "output_type": "stream",
     "text": [
      "<dict_keyiterator object at 0x7f532a4dd9a8>\n",
      "<dict_keyiterator object at 0x7f532a4dd9a8>\n"
     ]
    }
   ],
   "source": [
    "print(dg.successors(0))\n",
    "print(dg.predecessors(1))"
   ]
  },
  {
   "cell_type": "markdown",
   "metadata": {},
   "source": [
    "## Passeios, trilhas e caminhos\n",
    "\n",
    "Se $(N, E)$ é um grafo não-dirigido:\n",
    "\n",
    "* um **passeio** (*walk*) é uma sequência de nós $\\langle n_0, n_1, \\ldots, n_{k-1} \\rangle$ tal que, para todo $i$ entre $0$ e $k-2$, temos que $\\{n_i, n_{i + 1}\\} \\in E$;\n",
    "\n",
    "* uma **trilha** (*trail*) é um passeio $\\langle n_0, n_1, \\ldots, n_{k-1} \\rangle$ no qual não existem índices $i$ e $j$ entre $0$ e $k-2$ tais que $i \\neq j$ e $\\{n_i, n_{i+1}\\} = \\{n_j, n_{j+1}\\}$;\n",
    "\n",
    "* um **caminho** (*path*) é um passeio $\\langle n_0, n_1, \\ldots, n_{k-1} \\rangle$ no qual não existem índices $i$ e $j$ entre $0$ e $k-1$ tais que $i \\neq j$ e $n_i = n_j$.\n",
    "\n",
    "Se $(N, E)$ é um grafo dirigido:\n",
    "\n",
    "* um **passeio** (*walk*) é uma sequência de nós $\\langle n_0, n_1, \\ldots, n_{k-1} \\rangle$ tal que, para todo $i$ entre $0$ e $k-2$, temos que $(n_i, n_{i + 1}) \\in E$;\n",
    "\n",
    "* uma **trilha** (*trail*) é um passeio $\\langle n_0, n_1, \\ldots, n_{k-1} \\rangle$ no qual não existem índices $i$ e $j$ entre $0$ e $k-2$ tais que $i \\neq j$ e $(n_i, n_{i+1}) = (n_j, n_{j+1})$;\n",
    "\n",
    "* um **caminho** (*path*) é um passeio $\\langle n_0, n_1, \\ldots, n_{k-1} \\rangle$ no qual não existem índices $i$ e $j$ entre $0$ e $k-1$ tais que $i \\neq j$ e $n_i = n_j$.\n",
    "\n",
    "Pode-se dizer que uma trilha é um passeio que não repete arestas e um caminho é um passeio que não repete nós.\n",
    "\n",
    "### Exercício 1\n",
    "\n",
    "Dê um exemplo de passeio que não é trilha no grafo `ug`."
   ]
  },
  {
   "cell_type": "markdown",
   "metadata": {},
   "source": [
    "Um passeio que vai e volta pela mesma aresta ou que passa por ela mais de uma vez não é trilha."
   ]
  },
  {
   "cell_type": "markdown",
   "metadata": {},
   "source": [
    "### Exercício 2\n",
    "\n",
    "Dê um exemplo de passeio que não é trilha no grafo `dg`."
   ]
  },
  {
   "cell_type": "markdown",
   "metadata": {},
   "source": [
    "Um passeio que passa pela mesma aresta no mesmo sentido mais de uma vez não é trilha"
   ]
  },
  {
   "cell_type": "markdown",
   "metadata": {},
   "source": [
    "### Exercício 3\n",
    "\n",
    "Dê um exemplo de trilha que não é caminho no grafo `ug`."
   ]
  },
  {
   "cell_type": "markdown",
   "metadata": {},
   "source": [
    "Um passeio que não passa mais de uma vez na mesma aresta e que passa mais de uma vez no mesmo nó."
   ]
  },
  {
   "cell_type": "markdown",
   "metadata": {},
   "source": [
    "### Exercício 4\n",
    "\n",
    "Dê um exemplo de trilha que não é caminho no grafo `dg`."
   ]
  },
  {
   "cell_type": "markdown",
   "metadata": {},
   "source": [
    "Um passeio que não passa mais de uma vez numa aresta na mesma direção e que ainda assim passa mais de uma vez no mesmo nó."
   ]
  },
  {
   "cell_type": "markdown",
   "metadata": {},
   "source": [
    "### Exercício 5\n",
    "\n",
    "Use cores para dar um exemplo de caminho no grafo `ug`."
   ]
  },
  {
   "cell_type": "markdown",
   "metadata": {},
   "source": [
    "Começar do nó 1, passar pela aresta azul e chegar no nó 2, passar pela aresta vermelha e chegar no nó 3."
   ]
  },
  {
   "cell_type": "markdown",
   "metadata": {},
   "source": [
    "### Exercício 6\n",
    "\n",
    "Use cores para dar um exemplo de caminho no grafo `dg`."
   ]
  },
  {
   "cell_type": "markdown",
   "metadata": {},
   "source": [
    "Começar do nó 1, passar pela aresta azul, chegar no nó 2, passar pela aresta vermelha, chegar no nó 3, voltar pelo sentido contrário da aresta vermelha chegando no nó 2, voltar pelo sentido contrário na aresta azul e chegar no nó 1."
   ]
  },
  {
   "cell_type": "markdown",
   "metadata": {},
   "source": [
    "## Posicionamento dos nós\n",
    "\n",
    "Para encerrar, vamos carregar o grafo do encontro anterior. O próprio arquivo atribui `label` aos nós, portanto não é necessário criá-los."
   ]
  },
  {
   "cell_type": "code",
   "execution_count": null,
   "metadata": {},
   "outputs": [],
   "source": [
    "sn.graph_width = 450\n",
    "sn.graph_height = 450\n",
    "\n",
    "sn.node_label_position = 'hover' # easter egg!\n",
    "\n",
    "g = sn.load_graph('1-introducao.gml', has_pos=True)\n",
    "\n",
    "sn.show_graph(g, nlab=True)"
   ]
  },
  {
   "cell_type": "markdown",
   "metadata": {},
   "source": [
    "Usamos o argumento `has_pos` para indicar que os atributos `x` e `y` devem ser usados para posicionar os nós. Esse argumento é `False` por padrão, pois nem todo arquivo atribui essas coordenadas.\n",
    "\n",
    "Se elas não forem usadas, a visualização usa um tipo de [force-directed graph drawing](https://en.wikipedia.org/wiki/Force-directed_graph_drawing)."
   ]
  },
  {
   "cell_type": "code",
   "execution_count": null,
   "metadata": {},
   "outputs": [],
   "source": [
    "g = sn.load_graph('1-introducao.gml')\n",
    "\n",
    "sn.show_graph(g, nlab=True)"
   ]
  },
  {
   "cell_type": "code",
   "execution_count": null,
   "metadata": {},
   "outputs": [],
   "source": []
  }
 ],
 "metadata": {
  "kernelspec": {
   "display_name": "Python 3",
   "language": "python",
   "name": "python3"
  },
  "language_info": {
   "codemirror_mode": {
    "name": "ipython",
    "version": 3
   },
   "file_extension": ".py",
   "mimetype": "text/x-python",
   "name": "python",
   "nbconvert_exporter": "python",
   "pygments_lexer": "ipython3",
   "version": "3.5.2"
  }
 },
 "nbformat": 4,
 "nbformat_minor": 1
}
